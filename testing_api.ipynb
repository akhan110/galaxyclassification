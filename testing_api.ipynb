{
  "nbformat": 4,
  "nbformat_minor": 0,
  "metadata": {
    "colab": {
      "provenance": []
    },
    "kernelspec": {
      "name": "python3",
      "display_name": "Python 3"
    },
    "language_info": {
      "name": "python"
    }
  },
  "cells": [
    {
      "cell_type": "code",
      "execution_count": null,
      "metadata": {
        "colab": {
          "base_uri": "https://localhost:8080/"
        },
        "id": "6oTFNk4bBsg0",
        "outputId": "103dd103-46ca-4307-d04b-3ae8df2b1150"
      },
      "outputs": [
        {
          "output_type": "stream",
          "name": "stdout",
          "text": [
            "Response Status Code: 200\n",
            "Response Text: {\"detected_labels\":[\"Irregular\",\"Irregular\"]}\n",
            "Parsed JSON: {'detected_labels': ['Irregular', 'Irregular']}\n"
          ]
        }
      ],
      "source": [
        "import requests\n",
        "import base64\n",
        "import json\n",
        "\n",
        "# Define API URL (Update with your actual ngrok URL)\n",
        "url = \"https://2e3e-34-83-106-251.ngrok-free.app/predict/\"\n",
        "\n",
        "# Path to the image (Update with your actual image path)\n",
        "image_path = \"/content/sample_data/potw2324a.jpg\"\n",
        "\n",
        "# Read and encode image as base64\n",
        "with open(image_path, \"rb\") as file:\n",
        "    base64_image = base64.b64encode(file.read()).decode(\"utf-8\")\n",
        "\n",
        "# Create JSON payload\n",
        "payload = json.dumps({\"image_base64\": base64_image})\n",
        "\n",
        "# Send request\n",
        "headers = {\"Content-Type\": \"application/json\"}\n",
        "response = requests.post(url, headers=headers, data=payload)\n",
        "\n",
        "# Debug response\n",
        "print(\"Response Status Code:\", response.status_code)\n",
        "print(\"Response Text:\", response.text)\n",
        "\n",
        "try:\n",
        "    data = response.json()  # Try to parse JSON response\n",
        "    print(\"Parsed JSON:\", data)\n",
        "except requests.JSONDecodeError:\n",
        "    print(\"Error: Response is not valid JSON\")\n"
      ]
    }
  ]
}